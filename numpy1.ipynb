{
  "nbformat": 4,
  "nbformat_minor": 0,
  "metadata": {
    "colab": {
      "provenance": [],
      "authorship_tag": "ABX9TyNF2SHT+vlusx7Ax9Q/IyhH",
      "include_colab_link": true
    },
    "kernelspec": {
      "name": "python3",
      "display_name": "Python 3"
    },
    "language_info": {
      "name": "python"
    }
  },
  "cells": [
    {
      "cell_type": "markdown",
      "metadata": {
        "id": "view-in-github",
        "colab_type": "text"
      },
      "source": [
        "<a href=\"https://colab.research.google.com/github/rakj01/PythonLibraries/blob/main/numpy1.ipynb\" target=\"_parent\"><img src=\"https://colab.research.google.com/assets/colab-badge.svg\" alt=\"Open In Colab\"/></a>"
      ]
    },
    {
      "cell_type": "code",
      "execution_count": 2,
      "metadata": {
        "id": "Wu3Q5v-SmDt0"
      },
      "outputs": [],
      "source": [
        "import numpy as np\n",
        "from numpy import random\n",
        "import matplotlib.pyplot as plt\n",
        "import seaborn as sns"
      ]
    },
    {
      "cell_type": "markdown",
      "source": [
        "Random number does NOT mean a different number every time. Random means something that can not be predicted logically.\n",
        "\n",
        "*   Random numbers generated through a generation algorithm are called pseudo random\n",
        "*    In order to generate a truly random number on our computers we need to get the random data from some outside source. This outside source is generally our keystrokes, mouse movements, data on network etc.\n",
        "\n",
        "\n",
        "*  We do not need truly random numbers, unless it is related to security (e.g. encryption keys) or the basis of application is the randomness\n",
        "\n",
        "\n",
        "\n",
        "\n"
      ],
      "metadata": {
        "id": "vRjQTo8JKcV7"
      }
    },
    {
      "cell_type": "markdown",
      "source": [],
      "metadata": {
        "id": "jrRZDdq0KmoE"
      }
    },
    {
      "cell_type": "code",
      "source": [
        "x = random.randint(100)\n",
        "print(x)"
      ],
      "metadata": {
        "colab": {
          "base_uri": "https://localhost:8080/"
        },
        "id": "GRAtWa_wJyWc",
        "outputId": "997c537e-892c-4af1-985b-f980d49f05ed"
      },
      "execution_count": null,
      "outputs": [
        {
          "output_type": "stream",
          "name": "stdout",
          "text": [
            "91\n"
          ]
        }
      ]
    },
    {
      "cell_type": "code",
      "source": [
        "#The random module's rand() method returns a random float between 0 and 1.\n",
        "x = random.rand()\n",
        "print(x)"
      ],
      "metadata": {
        "colab": {
          "base_uri": "https://localhost:8080/"
        },
        "id": "kFZL3Ne9MSVx",
        "outputId": "d7c5bdd6-6427-4e33-e085-ee04035bf9e5"
      },
      "execution_count": null,
      "outputs": [
        {
          "output_type": "stream",
          "name": "stdout",
          "text": [
            "0.3668464898246415\n"
          ]
        }
      ]
    },
    {
      "cell_type": "code",
      "source": [
        "x = random.randint(100, size = (5))\n",
        "print(x)"
      ],
      "metadata": {
        "id": "0dpvUbUMMr44",
        "colab": {
          "base_uri": "https://localhost:8080/"
        },
        "outputId": "d854a98b-c3ee-4440-ecdb-f1c12c860811"
      },
      "execution_count": null,
      "outputs": [
        {
          "output_type": "stream",
          "name": "stdout",
          "text": [
            "[37 33 61 12 44]\n"
          ]
        }
      ]
    },
    {
      "cell_type": "code",
      "source": [
        "x = random.randint(100, size = (3,5))\n",
        "print(x)"
      ],
      "metadata": {
        "id": "nV3J7578MpMB",
        "colab": {
          "base_uri": "https://localhost:8080/"
        },
        "outputId": "c51e12c5-5217-48c1-f207-1e25098282a8"
      },
      "execution_count": null,
      "outputs": [
        {
          "output_type": "stream",
          "name": "stdout",
          "text": [
            "[[45 52 59 27 17]\n",
            " [ 5 75 32 18 68]\n",
            " [56  8 25 13 67]]\n"
          ]
        }
      ]
    },
    {
      "cell_type": "code",
      "source": [
        "x = random.rand(5)\n",
        "print(x)"
      ],
      "metadata": {
        "colab": {
          "base_uri": "https://localhost:8080/"
        },
        "id": "stmbs1uTOcnt",
        "outputId": "396dec43-6f0d-4737-a2f7-3542480e52c7"
      },
      "execution_count": null,
      "outputs": [
        {
          "output_type": "stream",
          "name": "stdout",
          "text": [
            "[0.48852823 0.9854871  0.9374071  0.33700799 0.21878342]\n"
          ]
        }
      ]
    },
    {
      "cell_type": "code",
      "source": [
        "x = random.rand(3,5)\n",
        "print(x)"
      ],
      "metadata": {
        "colab": {
          "base_uri": "https://localhost:8080/"
        },
        "id": "edj8qRIPOoKV",
        "outputId": "d8356626-31a1-47ea-8c01-7c1ff79ee606"
      },
      "execution_count": null,
      "outputs": [
        {
          "output_type": "stream",
          "name": "stdout",
          "text": [
            "[[0.30973397 0.92370719 0.07192737 0.07871892 0.40771325]\n",
            " [0.93857446 0.278919   0.32723122 0.26144792 0.66359907]\n",
            " [0.08422079 0.9200622  0.80266609 0.09606921 0.96108932]]\n"
          ]
        }
      ]
    },
    {
      "cell_type": "code",
      "source": [
        "x = random.choice([3,5,7,9])\n",
        "print(x)"
      ],
      "metadata": {
        "colab": {
          "base_uri": "https://localhost:8080/"
        },
        "id": "aMlHsh0YOvH5",
        "outputId": "5ce755a7-d80e-48ac-94a1-57cbdfbad6be"
      },
      "execution_count": null,
      "outputs": [
        {
          "output_type": "stream",
          "name": "stdout",
          "text": [
            "7\n"
          ]
        }
      ]
    },
    {
      "cell_type": "code",
      "source": [
        "x = random.choice([3,5,7,9], size = (3,5))\n",
        "print(x)"
      ],
      "metadata": {
        "colab": {
          "base_uri": "https://localhost:8080/"
        },
        "id": "8m1NC27COyIl",
        "outputId": "2e1980eb-8a67-4667-85ac-8a4a50667717"
      },
      "execution_count": null,
      "outputs": [
        {
          "output_type": "stream",
          "name": "stdout",
          "text": [
            "[[5 3 5 5 9]\n",
            " [7 9 7 3 9]\n",
            " [7 5 7 7 7]]\n"
          ]
        }
      ]
    },
    {
      "cell_type": "markdown",
      "source": [
        "- Data Distribution is a list of all possible values, and how often each value occurs\n",
        "- A random distribution is a set of random numbers that follow a certain probability density function\n",
        "- A function that describes a continuous probability. i.e. probability of all values in an array.\n",
        "- The choice() method allows us to specify the probability for each value"
      ],
      "metadata": {
        "id": "JDqQrK2eQXjy"
      }
    },
    {
      "cell_type": "code",
      "source": [
        "x = random.choice([3,5,7,9], p = [0.1, 0.3, 0.6, 0.0], size = (3,5))\n",
        "print(x)"
      ],
      "metadata": {
        "colab": {
          "base_uri": "https://localhost:8080/"
        },
        "id": "4uhR2MrMPx_z",
        "outputId": "d2dd1cc1-e0ef-41c1-d4d1-4bb905561c2d"
      },
      "execution_count": null,
      "outputs": [
        {
          "output_type": "stream",
          "name": "stdout",
          "text": [
            "[[7 5 3 7 7]\n",
            " [7 3 3 3 7]\n",
            " [7 3 7 7 7]]\n"
          ]
        }
      ]
    },
    {
      "cell_type": "markdown",
      "source": [
        "Shuffle means changing arrangement of elements in-place. i.e. in the array itself."
      ],
      "metadata": {
        "id": "9u5CfmPrUen7"
      }
    },
    {
      "cell_type": "code",
      "source": [
        "arr = np.array([1,2,3,4,5])\n",
        "random.shuffle(arr)\n",
        "print(arr)"
      ],
      "metadata": {
        "colab": {
          "base_uri": "https://localhost:8080/"
        },
        "id": "pbY3BNN-UfsN",
        "outputId": "5f1249ae-bad7-4687-bd49-268f7514e7f9"
      },
      "execution_count": null,
      "outputs": [
        {
          "output_type": "stream",
          "name": "stdout",
          "text": [
            "[2 4 1 5 3]\n"
          ]
        }
      ]
    },
    {
      "cell_type": "markdown",
      "source": [
        "The permutation() method returns a re-arranged array (and leaves the original array un-changed)."
      ],
      "metadata": {
        "id": "npJR02QlUxP1"
      }
    },
    {
      "cell_type": "code",
      "source": [
        "arr = np.array([1,2,3,4,5])\n",
        "print(random.permutation(arr))"
      ],
      "metadata": {
        "colab": {
          "base_uri": "https://localhost:8080/"
        },
        "id": "jG2yOvgXTH1f",
        "outputId": "38453a64-4a64-4725-8f0d-a63b7628512b"
      },
      "execution_count": null,
      "outputs": [
        {
          "output_type": "stream",
          "name": "stdout",
          "text": [
            "[3 1 4 5 2]\n"
          ]
        }
      ]
    },
    {
      "cell_type": "markdown",
      "source": [
        "Distplot stands for distribution plot, it takes as input an array and plots a curve corresponding to the distribution of points in the array."
      ],
      "metadata": {
        "id": "2bDTmFixKxJH"
      }
    },
    {
      "cell_type": "code",
      "source": [
        "sns.distplot([0,1,2,3,4,5])\n",
        "plt.show()"
      ],
      "metadata": {
        "colab": {
          "base_uri": "https://localhost:8080/",
          "height": 621
        },
        "id": "ge7rjX8fKjFL",
        "outputId": "790b01ce-037c-4427-ae20-8c9812256ef8"
      },
      "execution_count": 6,
      "outputs": [
        {
          "output_type": "stream",
          "name": "stderr",
          "text": [
            "<ipython-input-6-3841862df5b8>:1: UserWarning: \n",
            "\n",
            "`distplot` is a deprecated function and will be removed in seaborn v0.14.0.\n",
            "\n",
            "Please adapt your code to use either `displot` (a figure-level function with\n",
            "similar flexibility) or `histplot` (an axes-level function for histograms).\n",
            "\n",
            "For a guide to updating your code to use the new functions, please see\n",
            "https://gist.github.com/mwaskom/de44147ed2974457ad6372750bbe5751\n",
            "\n",
            "  sns.distplot([0,1,2,3,4,5])\n"
          ]
        },
        {
          "output_type": "display_data",
          "data": {
            "text/plain": [
              "<Figure size 640x480 with 1 Axes>"
            ],
            "image/png": "[encoded data removed]"
          },
          "metadata": {}
        }
      ]
    },
    {
      "cell_type": "code",
      "source": [
        "sns.distplot([0,1,2,3,4,5], hist = False)\n",
        "plt.show()"
      ],
      "metadata": {
        "colab": {
          "base_uri": "https://localhost:8080/",
          "height": 621
        },
        "id": "XDq2-elSLQ-G",
        "outputId": "76af8838-984e-4ec1-ae59-71871c533e01"
      },
      "execution_count": 7,
      "outputs": [
        {
          "output_type": "stream",
          "name": "stderr",
          "text": [
            "<ipython-input-7-fd72e8eaa030>:1: UserWarning: \n",
            "\n",
            "`distplot` is a deprecated function and will be removed in seaborn v0.14.0.\n",
            "\n",
            "Please adapt your code to use either `displot` (a figure-level function with\n",
            "similar flexibility) or `kdeplot` (an axes-level function for kernel density plots).\n",
            "\n",
            "For a guide to updating your code to use the new functions, please see\n",
            "https://gist.github.com/mwaskom/de44147ed2974457ad6372750bbe5751\n",
            "\n",
            "  sns.distplot([0,1,2,3,4,5], hist = False)\n"
          ]
        },
        {
          "output_type": "display_data",
          "data": {
            "text/plain": [
              "<Figure size 640x480 with 1 Axes>"
            ],
            "image/png": "[encoded data removed]"
          },
          "metadata": {}
        }
      ]
    },
    {
      "cell_type": "markdown",
      "source": [
        "- Use the random.normal() method to get a Normal Data Distribution.\n",
        "- loc - (Mean) where the peak of the bell exists.\n",
        "- scale - (Standard Deviation) how flat the graph distribution should be.\n",
        "- size - The shape of the returned array."
      ],
      "metadata": {
        "id": "K7EFoC2kRnyk"
      }
    },
    {
      "cell_type": "code",
      "source": [
        "x = random.normal(loc = 1, scale = 2, size = (2,3))\n",
        "print(x)"
      ],
      "metadata": {
        "colab": {
          "base_uri": "https://localhost:8080/"
        },
        "id": "Sigh2FNCMJRG",
        "outputId": "dfeb3744-0035-485d-d964-d5ef75f986c9"
      },
      "execution_count": 4,
      "outputs": [
        {
          "output_type": "stream",
          "name": "stdout",
          "text": [
            "[[ 1.87876671 -1.56243749 -2.98020702]\n",
            " [ 1.42717696  0.46793265 -2.0752739 ]]\n"
          ]
        }
      ]
    },
    {
      "cell_type": "code",
      "source": [
        "sns.distplot(random.normal(size = (2, 3), loc = 1, scale = 2), hist = False)\n",
        "plt.show()"
      ],
      "metadata": {
        "colab": {
          "base_uri": "https://localhost:8080/",
          "height": 621
        },
        "id": "X_yzo-bISLAI",
        "outputId": "cb2edc17-f531-4151-ac35-10610ca9bf41"
      },
      "execution_count": 12,
      "outputs": [
        {
          "output_type": "stream",
          "name": "stderr",
          "text": [
            "<ipython-input-12-789e969a5562>:1: UserWarning: \n",
            "\n",
            "`distplot` is a deprecated function and will be removed in seaborn v0.14.0.\n",
            "\n",
            "Please adapt your code to use either `displot` (a figure-level function with\n",
            "similar flexibility) or `kdeplot` (an axes-level function for kernel density plots).\n",
            "\n",
            "For a guide to updating your code to use the new functions, please see\n",
            "https://gist.github.com/mwaskom/de44147ed2974457ad6372750bbe5751\n",
            "\n",
            "  sns.distplot(random.normal(size = (2, 3), loc = 1, scale = 2), hist = False)\n"
          ]
        },
        {
          "output_type": "display_data",
          "data": {
            "text/plain": [
              "<Figure size 640x480 with 1 Axes>"
            ],
            "image/png": "[encoded data removed]"
          },
          "metadata": {}
        }
      ]
    },
    {
      "cell_type": "code",
      "source": [],
      "metadata": {
        "id": "-AepijLIUUr4"
      },
      "execution_count": null,
      "outputs": []
    }
  ]
}