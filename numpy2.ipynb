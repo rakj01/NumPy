{
  "nbformat": 4,
  "nbformat_minor": 0,
  "metadata": {
    "colab": {
      "provenance": [],
      "authorship_tag": "ABX9TyMsximgQTT5XSQ8c2QDcMFO",
      "include_colab_link": true
    },
    "kernelspec": {
      "name": "python3",
      "display_name": "Python 3"
    },
    "language_info": {
      "name": "python"
    }
  },
  "cells": [
    {
      "cell_type": "markdown",
      "metadata": {
        "id": "view-in-github",
        "colab_type": "text"
      },
      "source": [
        "<a href=\"https://colab.research.google.com/github/rakj01/PythonLibraries/blob/main/numpy2.ipynb\" target=\"_parent\"><img src=\"https://colab.research.google.com/assets/colab-badge.svg\" alt=\"Open In Colab\"/></a>"
      ]
    },
    {
      "cell_type": "code",
      "execution_count": 56,
      "metadata": {
        "id": "YoacwUd_Vqgc"
      },
      "outputs": [],
      "source": [
        "import numpy as np"
      ]
    },
    {
      "cell_type": "code",
      "source": [
        "#normal addition\n",
        "x = [1, 2, 3, 4]\n",
        "y = [5, 6, 7, 8]\n",
        "z = []\n",
        "for i, j in zip(x, y):\n",
        "  z.append(i + j)\n",
        "print(z)"
      ],
      "metadata": {
        "colab": {
          "base_uri": "https://localhost:8080/"
        },
        "id": "oeZzp0vrusAY",
        "outputId": "b8b6b8a8-c84a-4cf4-8738-7b281a8f3bb5"
      },
      "execution_count": 4,
      "outputs": [
        {
          "output_type": "stream",
          "name": "stdout",
          "text": [
            "[6, 8, 10, 12]\n"
          ]
        }
      ]
    },
    {
      "cell_type": "code",
      "source": [
        "z1 = np.add(x, y)\n",
        "print(z1)"
      ],
      "metadata": {
        "colab": {
          "base_uri": "https://localhost:8080/"
        },
        "id": "ZFrdfPFKvIGo",
        "outputId": "a207e6de-308e-40f0-90e6-4b899e450a39"
      },
      "execution_count": 5,
      "outputs": [
        {
          "output_type": "stream",
          "name": "stdout",
          "text": [
            "[ 6  8 10 12]\n"
          ]
        }
      ]
    },
    {
      "cell_type": "code",
      "source": [
        "def myadd(x, y):\n",
        "  return x + y\n",
        "\n",
        "myadd = np.frompyfunc(myadd, 2, 1)\n",
        "\n",
        "print(myadd([1, 2, 3, 4], [5, 6, 7, 8]))"
      ],
      "metadata": {
        "colab": {
          "base_uri": "https://localhost:8080/"
        },
        "id": "BcfJwGyhv6uP",
        "outputId": "ba4ac162-1d69-426c-e693-107b336e8fe9"
      },
      "execution_count": 7,
      "outputs": [
        {
          "output_type": "stream",
          "name": "stdout",
          "text": [
            "[6 8 10 12]\n"
          ]
        }
      ]
    },
    {
      "cell_type": "code",
      "source": [
        "print(type(np.add))"
      ],
      "metadata": {
        "colab": {
          "base_uri": "https://localhost:8080/"
        },
        "id": "3d6ArkJv_1G_",
        "outputId": "fb4634fc-cd9b-4e92-bf8c-63bca4089372"
      },
      "execution_count": 8,
      "outputs": [
        {
          "output_type": "stream",
          "name": "stdout",
          "text": [
            "<class 'numpy.ufunc'>\n"
          ]
        }
      ]
    },
    {
      "cell_type": "code",
      "source": [
        "print(type(np.concatenate))"
      ],
      "metadata": {
        "colab": {
          "base_uri": "https://localhost:8080/"
        },
        "id": "XOMUb44TAxPP",
        "outputId": "1652dea8-b63a-484c-ae5e-b55945163ce2"
      },
      "execution_count": 9,
      "outputs": [
        {
          "output_type": "stream",
          "name": "stdout",
          "text": [
            "<class 'numpy._ArrayFunctionDispatcher'>\n"
          ]
        }
      ]
    },
    {
      "cell_type": "code",
      "source": [
        "if type(np.add) == np.ufunc:\n",
        "  print('add is ufunc')\n",
        "else:\n",
        "  print('add is not ufunc')"
      ],
      "metadata": {
        "colab": {
          "base_uri": "https://localhost:8080/"
        },
        "id": "-YILHveJA6zn",
        "outputId": "fcc6567c-96f5-44bb-8953-19f081d4cc05"
      },
      "execution_count": 10,
      "outputs": [
        {
          "output_type": "stream",
          "name": "stdout",
          "text": [
            "add is ufunc\n"
          ]
        }
      ]
    },
    {
      "cell_type": "code",
      "source": [
        "arr1 = np.array([10, 11, 12])\n",
        "arr2 = np.array([13, 14, 15])\n",
        "newarr = np.add(arr1, arr2)\n",
        "print(newarr)"
      ],
      "metadata": {
        "colab": {
          "base_uri": "https://localhost:8080/"
        },
        "id": "NZQh8LwPBo5m",
        "outputId": "647a0fa1-4a52-4951-886d-2d2a576eb6c2"
      },
      "execution_count": 11,
      "outputs": [
        {
          "output_type": "stream",
          "name": "stdout",
          "text": [
            "[23 25 27]\n"
          ]
        }
      ]
    },
    {
      "cell_type": "code",
      "source": [
        "newarr1 = np.subtract(arr1, arr2)\n",
        "print(newarr1)"
      ],
      "metadata": {
        "colab": {
          "base_uri": "https://localhost:8080/"
        },
        "id": "PvSVEuKEB8w_",
        "outputId": "ee4af1b7-2531-44eb-83ef-8e2632e6bea5"
      },
      "execution_count": 12,
      "outputs": [
        {
          "output_type": "stream",
          "name": "stdout",
          "text": [
            "[-3 -3 -3]\n"
          ]
        }
      ]
    },
    {
      "cell_type": "code",
      "source": [
        "newarr2 = np.multiply(arr1, arr2)\n",
        "print(newarr2)"
      ],
      "metadata": {
        "colab": {
          "base_uri": "https://localhost:8080/"
        },
        "id": "npTeI6kUCFOW",
        "outputId": "af429d5d-4d22-4e31-b80e-19e9c56bc26c"
      },
      "execution_count": 13,
      "outputs": [
        {
          "output_type": "stream",
          "name": "stdout",
          "text": [
            "[130 154 180]\n"
          ]
        }
      ]
    },
    {
      "cell_type": "code",
      "source": [
        "newarr3 = np.divide(arr1, arr2)\n",
        "print(newarr3)"
      ],
      "metadata": {
        "colab": {
          "base_uri": "https://localhost:8080/"
        },
        "id": "ytFDjJAwCLbt",
        "outputId": "f6b9039c-9d2e-45ba-9b75-ce19c534f171"
      },
      "execution_count": 14,
      "outputs": [
        {
          "output_type": "stream",
          "name": "stdout",
          "text": [
            "[0.76923077 0.78571429 0.8       ]\n"
          ]
        }
      ]
    },
    {
      "cell_type": "code",
      "source": [
        "arr1 = np.array([10, 20, 30, 40, 50])\n",
        "arr2 = np.array([3, 5, 10, 8, 2])\n",
        "newarr4 = np.power(arr1, arr2)\n",
        "print(newarr4)"
      ],
      "metadata": {
        "colab": {
          "base_uri": "https://localhost:8080/"
        },
        "id": "s0U400EfCTbV",
        "outputId": "75b90659-fc28-42e9-cfad-632afa3ce4e4"
      },
      "execution_count": 15,
      "outputs": [
        {
          "output_type": "stream",
          "name": "stdout",
          "text": [
            "[           1000         3200000 590490000000000   6553600000000\n",
            "            2500]\n"
          ]
        }
      ]
    },
    {
      "cell_type": "code",
      "source": [
        "newarr5 = np.mod(arr1, arr2)\n",
        "print(newarr5)"
      ],
      "metadata": {
        "colab": {
          "base_uri": "https://localhost:8080/"
        },
        "id": "dGFtNC2JCjGG",
        "outputId": "55c3e7cf-b52a-4cb7-95e3-24c44adf7ad9"
      },
      "execution_count": 16,
      "outputs": [
        {
          "output_type": "stream",
          "name": "stdout",
          "text": [
            "[1 0 0 0 0]\n"
          ]
        }
      ]
    },
    {
      "cell_type": "code",
      "source": [
        "newarr6 = np.remainder(arr1, arr2)\n",
        "print(newarr6)"
      ],
      "metadata": {
        "colab": {
          "base_uri": "https://localhost:8080/"
        },
        "id": "U1aCQDgtCr-1",
        "outputId": "c2196b89-17a1-45dc-add6-45fcf3ee5183"
      },
      "execution_count": 17,
      "outputs": [
        {
          "output_type": "stream",
          "name": "stdout",
          "text": [
            "[1 0 0 0 0]\n"
          ]
        }
      ]
    },
    {
      "cell_type": "code",
      "source": [
        "newarr7 = np.divmod(arr1, arr2)\n",
        "print(newarr7)"
      ],
      "metadata": {
        "colab": {
          "base_uri": "https://localhost:8080/"
        },
        "id": "m4S7OfcdCwYE",
        "outputId": "429fd32d-7050-4755-e18a-1aaa8b67ad76"
      },
      "execution_count": 18,
      "outputs": [
        {
          "output_type": "stream",
          "name": "stdout",
          "text": [
            "(array([ 3,  4,  3,  5, 25]), array([1, 0, 0, 0, 0]))\n"
          ]
        }
      ]
    },
    {
      "cell_type": "code",
      "source": [
        "arr = np.array([-1, -2, 1, 2, 3, -4])\n",
        "newarr8 = np.absolute(arr)\n",
        "print(newarr8)"
      ],
      "metadata": {
        "colab": {
          "base_uri": "https://localhost:8080/"
        },
        "id": "iKUEMVH6DKoh",
        "outputId": "9099dff2-24f1-4733-968d-15a59530c367"
      },
      "execution_count": 20,
      "outputs": [
        {
          "output_type": "stream",
          "name": "stdout",
          "text": [
            "[1 2 1 2 3 4]\n"
          ]
        }
      ]
    },
    {
      "cell_type": "code",
      "source": [
        "#return the float number closest to zero\n",
        "arr = np.trunc([-3.1666, 3.6667])\n",
        "print(arr)"
      ],
      "metadata": {
        "colab": {
          "base_uri": "https://localhost:8080/"
        },
        "id": "VRyE6zJGDP6B",
        "outputId": "9a173834-d711-4158-bd57-fef755010f3e"
      },
      "execution_count": 22,
      "outputs": [
        {
          "output_type": "stream",
          "name": "stdout",
          "text": [
            "[-3.  3.]\n"
          ]
        }
      ]
    },
    {
      "cell_type": "code",
      "source": [
        "arr = np.fix([-3.1666, 3.6667])\n",
        "print(arr)"
      ],
      "metadata": {
        "colab": {
          "base_uri": "https://localhost:8080/"
        },
        "id": "NTSx2O4-Eisr",
        "outputId": "47434c0f-1aa8-487d-f075-62cdbef5ece3"
      },
      "execution_count": 23,
      "outputs": [
        {
          "output_type": "stream",
          "name": "stdout",
          "text": [
            "[-3.  3.]\n"
          ]
        }
      ]
    },
    {
      "cell_type": "code",
      "source": [
        "arr = np.around(3.1666, 2)\n",
        "print(arr)"
      ],
      "metadata": {
        "colab": {
          "base_uri": "https://localhost:8080/"
        },
        "id": "i1reOjhqErRZ",
        "outputId": "119bda53-eb37-497f-e21e-0fedf6d87aff"
      },
      "execution_count": 24,
      "outputs": [
        {
          "output_type": "stream",
          "name": "stdout",
          "text": [
            "3.17\n"
          ]
        }
      ]
    },
    {
      "cell_type": "code",
      "source": [
        "#rounds off decimal to nearest lower integer.\n",
        "arr = np.floor([-3.1666, 3.6667])\n",
        "print(arr)"
      ],
      "metadata": {
        "colab": {
          "base_uri": "https://localhost:8080/"
        },
        "id": "K_5ibqrJEzxx",
        "outputId": "9572c401-050c-4e9c-c1a1-e23255c97ec1"
      },
      "execution_count": 25,
      "outputs": [
        {
          "output_type": "stream",
          "name": "stdout",
          "text": [
            "[-4.  3.]\n"
          ]
        }
      ]
    },
    {
      "cell_type": "code",
      "source": [
        "#rounds off decimal to nearest upper integer.\n",
        "arr = np.ceil([-3.1666, 3.6667])\n",
        "print(arr)"
      ],
      "metadata": {
        "colab": {
          "base_uri": "https://localhost:8080/"
        },
        "id": "CUp-0T_bE_Bp",
        "outputId": "ea7c9319-2fb0-4a5f-86f1-a4f891d889f6"
      },
      "execution_count": 26,
      "outputs": [
        {
          "output_type": "stream",
          "name": "stdout",
          "text": [
            "[-3.  4.]\n"
          ]
        }
      ]
    },
    {
      "cell_type": "markdown",
      "source": [
        "- NumPy provides functions to perform log at the base 2, e and 10.\n"
      ],
      "metadata": {
        "id": "45HhoQijGYDX"
      }
    },
    {
      "cell_type": "code",
      "source": [
        "arr = np.arange(1, 10)\n",
        "print(np.log2(arr))"
      ],
      "metadata": {
        "colab": {
          "base_uri": "https://localhost:8080/"
        },
        "id": "X1HCW8XBGTeh",
        "outputId": "da1238be-1192-450f-c4ba-311cd0ee936c"
      },
      "execution_count": 27,
      "outputs": [
        {
          "output_type": "stream",
          "name": "stdout",
          "text": [
            "[0.         1.         1.5849625  2.         2.32192809 2.5849625\n",
            " 2.80735492 3.         3.169925  ]\n"
          ]
        }
      ]
    },
    {
      "cell_type": "code",
      "source": [
        "print(np.log10(arr))"
      ],
      "metadata": {
        "colab": {
          "base_uri": "https://localhost:8080/"
        },
        "id": "xsgS6cOUGs1O",
        "outputId": "c66fbebf-94ec-4230-9f76-58560d019c77"
      },
      "execution_count": 28,
      "outputs": [
        {
          "output_type": "stream",
          "name": "stdout",
          "text": [
            "[0.         0.30103    0.47712125 0.60205999 0.69897    0.77815125\n",
            " 0.84509804 0.90308999 0.95424251]\n"
          ]
        }
      ]
    },
    {
      "cell_type": "code",
      "source": [
        "print(np.log(arr))"
      ],
      "metadata": {
        "colab": {
          "base_uri": "https://localhost:8080/"
        },
        "id": "yFSCgQtGGv7W",
        "outputId": "9e79c19b-da80-44b6-f098-e9356c6ed5fd"
      },
      "execution_count": 29,
      "outputs": [
        {
          "output_type": "stream",
          "name": "stdout",
          "text": [
            "[0.         0.69314718 1.09861229 1.38629436 1.60943791 1.79175947\n",
            " 1.94591015 2.07944154 2.19722458]\n"
          ]
        }
      ]
    },
    {
      "cell_type": "code",
      "source": [
        "from math import log\n",
        "nplog = np.frompyfunc(log, 2, 1)\n",
        "print(nplog(100, 15))"
      ],
      "metadata": {
        "colab": {
          "base_uri": "https://localhost:8080/"
        },
        "id": "R-mxglwJG15O",
        "outputId": "e3c4c1e8-69df-42ed-ae56-74dfd1cd9d80"
      },
      "execution_count": 30,
      "outputs": [
        {
          "output_type": "stream",
          "name": "stdout",
          "text": [
            "1.7005483074552052\n"
          ]
        }
      ]
    },
    {
      "cell_type": "code",
      "source": [
        "#summestions\n",
        "arr1 = np.array([1, 2, 3])\n",
        "arr2 = np.array([1, 2, 3])\n",
        "newarr = np.sum([arr1, arr2])\n",
        "print(newarr)"
      ],
      "metadata": {
        "colab": {
          "base_uri": "https://localhost:8080/"
        },
        "id": "mTzi5HA1IOhN",
        "outputId": "d5d3851c-2508-4d31-8224-669c594040ba"
      },
      "execution_count": 31,
      "outputs": [
        {
          "output_type": "stream",
          "name": "stdout",
          "text": [
            "12\n"
          ]
        }
      ]
    },
    {
      "cell_type": "code",
      "source": [
        "#summestion over axis\n",
        "newarr1 = np.sum([arr1, arr2], axis=1)\n",
        "print(newarr1)"
      ],
      "metadata": {
        "colab": {
          "base_uri": "https://localhost:8080/"
        },
        "id": "66YxyZ2ZIciW",
        "outputId": "5307ac37-0fb7-4e07-8412-06c0cf44e6bf"
      },
      "execution_count": 32,
      "outputs": [
        {
          "output_type": "stream",
          "name": "stdout",
          "text": [
            "[6 6]\n"
          ]
        }
      ]
    },
    {
      "cell_type": "code",
      "source": [
        "#cummulative sum\n",
        "newarr2 = np.cumsum(arr1)\n",
        "print(newarr2)"
      ],
      "metadata": {
        "colab": {
          "base_uri": "https://localhost:8080/"
        },
        "id": "S4vWI6UXIv1M",
        "outputId": "e87fb478-c8e4-4069-de9a-0cfdffbd4905"
      },
      "execution_count": 33,
      "outputs": [
        {
          "output_type": "stream",
          "name": "stdout",
          "text": [
            "[1 3 6]\n"
          ]
        }
      ]
    },
    {
      "cell_type": "code",
      "source": [
        "arr1 = np.array([1, 2, 3, 4])\n",
        "newarr = np.prod(arr1)\n",
        "print(newarr)"
      ],
      "metadata": {
        "colab": {
          "base_uri": "https://localhost:8080/"
        },
        "id": "3vkuU0wAJbCz",
        "outputId": "0b534efe-8b59-4644-9715-38e041bc7610"
      },
      "execution_count": 37,
      "outputs": [
        {
          "output_type": "stream",
          "name": "stdout",
          "text": [
            "24\n"
          ]
        }
      ]
    },
    {
      "cell_type": "code",
      "source": [
        "arr2 = np.array([5, 6, 7, 8])\n",
        "newarr1 = np.prod([arr1, arr2])\n",
        "print(newarr1)\n"
      ],
      "metadata": {
        "colab": {
          "base_uri": "https://localhost:8080/"
        },
        "id": "rdXEE8kSJklx",
        "outputId": "44f3a4e8-b8f9-4f28-e026-fffadecd354e"
      },
      "execution_count": 38,
      "outputs": [
        {
          "output_type": "stream",
          "name": "stdout",
          "text": [
            "40320\n"
          ]
        }
      ]
    },
    {
      "cell_type": "code",
      "source": [
        "newarr2 = np.prod([arr1, arr2], axis=1)\n",
        "print(newarr2)"
      ],
      "metadata": {
        "colab": {
          "base_uri": "https://localhost:8080/"
        },
        "id": "vIdDORtOJp74",
        "outputId": "7e71bc30-0eb9-4de3-be9b-b9607653f93f"
      },
      "execution_count": 39,
      "outputs": [
        {
          "output_type": "stream",
          "name": "stdout",
          "text": [
            "[  24 1680]\n"
          ]
        }
      ]
    },
    {
      "cell_type": "code",
      "source": [
        "newarr3 = np.cumprod(arr1)\n",
        "print(newarr3)"
      ],
      "metadata": {
        "colab": {
          "base_uri": "https://localhost:8080/"
        },
        "id": "4Q6EN76kJ-P8",
        "outputId": "a00411ca-9928-4154-f040-c97b6930ef7e"
      },
      "execution_count": 40,
      "outputs": [
        {
          "output_type": "stream",
          "name": "stdout",
          "text": [
            "[ 1  2  6 24]\n"
          ]
        }
      ]
    },
    {
      "cell_type": "code",
      "source": [
        "arr = np.array([10, 15, 25, 5])\n",
        "newarr = np.diff(arr)\n",
        "print(newarr)"
      ],
      "metadata": {
        "colab": {
          "base_uri": "https://localhost:8080/"
        },
        "id": "-HxXlqtOKQ8J",
        "outputId": "69df5c99-14b1-43b3-a7f7-ed8729261d52"
      },
      "execution_count": 41,
      "outputs": [
        {
          "output_type": "stream",
          "name": "stdout",
          "text": [
            "[  5  10 -20]\n"
          ]
        }
      ]
    },
    {
      "cell_type": "code",
      "source": [
        "newarr1 = np.diff(arr, n=2)\n",
        "print(newarr1)"
      ],
      "metadata": {
        "colab": {
          "base_uri": "https://localhost:8080/"
        },
        "id": "npsSgzrhK78G",
        "outputId": "6a89eeca-20a6-4ec4-93ac-3cbc7ec33bca"
      },
      "execution_count": 42,
      "outputs": [
        {
          "output_type": "stream",
          "name": "stdout",
          "text": [
            "[  5 -30]\n"
          ]
        }
      ]
    },
    {
      "cell_type": "markdown",
      "source": [
        "The Lowest Common Multiple is the smallest number that is a common multiple of two numbers."
      ],
      "metadata": {
        "id": "_Q7MRPBVLk0o"
      }
    },
    {
      "cell_type": "code",
      "source": [
        "print(np.lcm(4, 6))"
      ],
      "metadata": {
        "colab": {
          "base_uri": "https://localhost:8080/"
        },
        "id": "jC88sPSqLlWg",
        "outputId": "55ea6d2b-0569-4566-8d4e-9d38f5cde069"
      },
      "execution_count": 43,
      "outputs": [
        {
          "output_type": "stream",
          "name": "stdout",
          "text": [
            "12\n"
          ]
        }
      ]
    },
    {
      "cell_type": "code",
      "source": [
        "arr = np.arange(1, 11)\n",
        "x = np.lcm.reduce(arr)\n",
        "print(x)"
      ],
      "metadata": {
        "colab": {
          "base_uri": "https://localhost:8080/"
        },
        "id": "TSi9M4nqLq0L",
        "outputId": "ed4b552e-b7a4-4d1c-c2b4-c597c5a22aa1"
      },
      "execution_count": 46,
      "outputs": [
        {
          "output_type": "stream",
          "name": "stdout",
          "text": [
            "2520\n"
          ]
        }
      ]
    },
    {
      "cell_type": "markdown",
      "source": [
        "The GCD (Greatest Common Denominator), also known as HCF (Highest Common Factor) is the biggest number that is a common factor of both of the numbers"
      ],
      "metadata": {
        "id": "OxgWFwT3NEdQ"
      }
    },
    {
      "cell_type": "code",
      "source": [
        "print(np.gcd(6, 9))"
      ],
      "metadata": {
        "colab": {
          "base_uri": "https://localhost:8080/"
        },
        "id": "sx_LskfBNE8X",
        "outputId": "6b39d543-73d1-4c6a-e0f0-ea8d6c343a05"
      },
      "execution_count": 47,
      "outputs": [
        {
          "output_type": "stream",
          "name": "stdout",
          "text": [
            "3\n"
          ]
        }
      ]
    },
    {
      "cell_type": "code",
      "source": [
        "arr = np.array([20, 8, 32, 36, 16])\n",
        "x = np.gcd.reduce(arr)\n",
        "print(x)"
      ],
      "metadata": {
        "colab": {
          "base_uri": "https://localhost:8080/"
        },
        "id": "H4-tzjNENJV-",
        "outputId": "7dd98efd-76d3-4d12-9d36-6340819b99cd"
      },
      "execution_count": 48,
      "outputs": [
        {
          "output_type": "stream",
          "name": "stdout",
          "text": [
            "4\n"
          ]
        }
      ]
    },
    {
      "cell_type": "markdown",
      "source": [
        "Trigonometric Functions\n",
        "- take values in radians"
      ],
      "metadata": {
        "id": "DTW1zutsNna-"
      }
    },
    {
      "cell_type": "code",
      "source": [
        "x = np.sin(np.pi/2)\n",
        "print(x)"
      ],
      "metadata": {
        "colab": {
          "base_uri": "https://localhost:8080/"
        },
        "id": "OWlptuDnNjTW",
        "outputId": "4c1a7a36-6c3e-4101-975e-872304c643d6"
      },
      "execution_count": 49,
      "outputs": [
        {
          "output_type": "stream",
          "name": "stdout",
          "text": [
            "1.0\n"
          ]
        }
      ]
    },
    {
      "cell_type": "code",
      "source": [
        "arr = np.array([np.pi/2, np.pi/3, np.pi/4, np.pi/5])\n",
        "x = np.sin(arr)\n",
        "print(x)"
      ],
      "metadata": {
        "colab": {
          "base_uri": "https://localhost:8080/"
        },
        "id": "OzTqgS05N4de",
        "outputId": "7730528f-2351-40ca-a87b-f1f788f4814c"
      },
      "execution_count": 50,
      "outputs": [
        {
          "output_type": "stream",
          "name": "stdout",
          "text": [
            "[1.         0.8660254  0.70710678 0.58778525]\n"
          ]
        }
      ]
    },
    {
      "cell_type": "markdown",
      "source": [
        "- radians values are pi/180 * degree_values."
      ],
      "metadata": {
        "id": "yDpUXSXNONds"
      }
    },
    {
      "cell_type": "code",
      "source": [
        "arr = np.array([90, 180, 270, 360])\n",
        "x = np.deg2rad(arr)\n",
        "print(x)"
      ],
      "metadata": {
        "colab": {
          "base_uri": "https://localhost:8080/"
        },
        "id": "EgmFGmdROOfl",
        "outputId": "8344b3c5-6d2c-4296-f001-186ae82b0a6d"
      },
      "execution_count": 51,
      "outputs": [
        {
          "output_type": "stream",
          "name": "stdout",
          "text": [
            "[1.57079633 3.14159265 4.71238898 6.28318531]\n"
          ]
        }
      ]
    },
    {
      "cell_type": "code",
      "source": [
        "arr = np.array([np.pi/2, np.pi, 1.5*np.pi, 2*np.pi])\n",
        "x = np.rad2deg(arr)\n",
        "print(x)"
      ],
      "metadata": {
        "colab": {
          "base_uri": "https://localhost:8080/"
        },
        "id": "RcbxOus2OXSs",
        "outputId": "7ad3aa56-bfdd-4734-82f3-a22de68b89c1"
      },
      "execution_count": 52,
      "outputs": [
        {
          "output_type": "stream",
          "name": "stdout",
          "text": [
            "[ 90. 180. 270. 360.]\n"
          ]
        }
      ]
    },
    {
      "cell_type": "code",
      "source": [
        "print(np.arcsin(1.0))"
      ],
      "metadata": {
        "colab": {
          "base_uri": "https://localhost:8080/"
        },
        "id": "lea18nlLOi8P",
        "outputId": "2066730a-00a3-40d6-845b-1b02a88e3be0"
      },
      "execution_count": 53,
      "outputs": [
        {
          "output_type": "stream",
          "name": "stdout",
          "text": [
            "1.5707963267948966\n"
          ]
        }
      ]
    },
    {
      "cell_type": "code",
      "source": [
        "arr = np.array([1, -1, 0.1])\n",
        "x = np.arcsin(arr)\n",
        "print(x)"
      ],
      "metadata": {
        "colab": {
          "base_uri": "https://localhost:8080/"
        },
        "id": "81104aIJOnPq",
        "outputId": "f92fccbd-7ff0-43d9-8d5b-9a3a1b2dc200"
      },
      "execution_count": 54,
      "outputs": [
        {
          "output_type": "stream",
          "name": "stdout",
          "text": [
            "[ 1.57079633 -1.57079633  0.10016742]\n"
          ]
        }
      ]
    },
    {
      "cell_type": "markdown",
      "source": [
        "- NumPy provides the hypot() function that takes the base and perpendicular values and produces hypotenues based on pythagoras theorem."
      ],
      "metadata": {
        "id": "Dtg_MSc7OydN"
      }
    },
    {
      "cell_type": "code",
      "source": [
        "print(np.hypot(3, 4))"
      ],
      "metadata": {
        "colab": {
          "base_uri": "https://localhost:8080/"
        },
        "id": "l7HNKrJXOtqZ",
        "outputId": "21186420-3a9c-4f10-af63-4322ca451fb0"
      },
      "execution_count": 55,
      "outputs": [
        {
          "output_type": "stream",
          "name": "stdout",
          "text": [
            "5.0\n"
          ]
        }
      ]
    },
    {
      "cell_type": "code",
      "source": [
        "print(np.sinh(np.pi/2))"
      ],
      "metadata": {
        "colab": {
          "base_uri": "https://localhost:8080/"
        },
        "id": "fXLKLhyRi6qy",
        "outputId": "9cbc4b81-75fa-4377-bd5f-c3af73c28fd8"
      },
      "execution_count": 57,
      "outputs": [
        {
          "output_type": "stream",
          "name": "stdout",
          "text": [
            "2.3012989023072947\n"
          ]
        }
      ]
    },
    {
      "cell_type": "code",
      "source": [
        "arr = np.array([np.pi/2, np.pi/3, np.pi/4, np.pi/5])\n",
        "x = np.cosh(arr)\n",
        "print(x)\n"
      ],
      "metadata": {
        "colab": {
          "base_uri": "https://localhost:8080/"
        },
        "id": "FifW14QFi6jA",
        "outputId": "6d38399f-b0cb-425b-996b-ea1829c9582d"
      },
      "execution_count": 58,
      "outputs": [
        {
          "output_type": "stream",
          "name": "stdout",
          "text": [
            "[2.50917848 1.60028686 1.32460909 1.20397209]\n"
          ]
        }
      ]
    },
    {
      "cell_type": "code",
      "source": [
        "arr = np.array([0.1, 0.2, 0.5])\n",
        "x = np.arcsinh(arr)\n",
        "print(x)"
      ],
      "metadata": {
        "colab": {
          "base_uri": "https://localhost:8080/"
        },
        "id": "OeUyQPAsjBuB",
        "outputId": "5b2a3c8a-518c-4a2f-8b42-800806e8d26c"
      },
      "execution_count": 59,
      "outputs": [
        {
          "output_type": "stream",
          "name": "stdout",
          "text": [
            "[0.09983408 0.19869011 0.48121183]\n"
          ]
        }
      ]
    },
    {
      "cell_type": "markdown",
      "source": [
        "A set in mathematics is a collection of unique elements."
      ],
      "metadata": {
        "id": "o-LvQ7NujXQQ"
      }
    },
    {
      "cell_type": "code",
      "source": [
        "arr = np.array([1, 1, 1, 2, 3, 4, 5, 5, 6, 7])\n",
        "x = np.unique(arr)\n",
        "print(x)"
      ],
      "metadata": {
        "colab": {
          "base_uri": "https://localhost:8080/"
        },
        "id": "08bCeeb7jIw4",
        "outputId": "818a6522-5e45-492a-8c1a-9f861154f6bf"
      },
      "execution_count": 60,
      "outputs": [
        {
          "output_type": "stream",
          "name": "stdout",
          "text": [
            "[1 2 3 4 5 6 7]\n"
          ]
        }
      ]
    },
    {
      "cell_type": "code",
      "source": [
        "arr1 = np.array([1, 2, 3, 4])\n",
        "arr2 = np.array([3, 4, 5, 6])\n",
        "newarr = np.union1d(arr1, arr2)\n",
        "print(newarr)"
      ],
      "metadata": {
        "colab": {
          "base_uri": "https://localhost:8080/"
        },
        "id": "TDsy7qowjZhn",
        "outputId": "6a952377-e32d-4a88-bf16-1283d6bc78a7"
      },
      "execution_count": 61,
      "outputs": [
        {
          "output_type": "stream",
          "name": "stdout",
          "text": [
            "[1 2 3 4 5 6]\n"
          ]
        }
      ]
    },
    {
      "cell_type": "code",
      "source": [
        "newarr1 = np.intersect1d(arr1, arr2, assume_unique=True)\n",
        "print(newarr1)"
      ],
      "metadata": {
        "colab": {
          "base_uri": "https://localhost:8080/"
        },
        "id": "7ly1niMHjdso",
        "outputId": "8c0b7434-6310-48e7-a7ec-c064547708b5"
      },
      "execution_count": 62,
      "outputs": [
        {
          "output_type": "stream",
          "name": "stdout",
          "text": [
            "[3 4]\n"
          ]
        }
      ]
    },
    {
      "cell_type": "markdown",
      "source": [
        "To find only the values in the first set that is NOT present in the seconds set, use the setdiff1d() method."
      ],
      "metadata": {
        "id": "YvjES4YRjuXX"
      }
    },
    {
      "cell_type": "code",
      "source": [
        "set1 = np.array([1, 2, 3, 4])\n",
        "set2 = np.array([3, 4, 5, 6])\n",
        "newarr = np.setdiff1d(set1, set2, assume_unique=True)\n",
        "print(newarr)"
      ],
      "metadata": {
        "colab": {
          "base_uri": "https://localhost:8080/"
        },
        "id": "XhYQpuxrju2R",
        "outputId": "7069afb4-c469-40f3-9d13-19556e8470da"
      },
      "execution_count": 63,
      "outputs": [
        {
          "output_type": "stream",
          "name": "stdout",
          "text": [
            "[1 2]\n"
          ]
        }
      ]
    },
    {
      "cell_type": "markdown",
      "source": [
        "To find only the values that are NOT present in BOTH sets, use the setxor1d() method."
      ],
      "metadata": {
        "id": "eW1JqVqoj6xx"
      }
    },
    {
      "cell_type": "code",
      "source": [
        "newarr = np.setxor1d(set1, set2, assume_unique=True)\n",
        "print(newarr)"
      ],
      "metadata": {
        "colab": {
          "base_uri": "https://localhost:8080/"
        },
        "id": "E8Qkp2NLj1JO",
        "outputId": "290ce956-5aa2-4a55-c75d-53cbed482e32"
      },
      "execution_count": 65,
      "outputs": [
        {
          "output_type": "stream",
          "name": "stdout",
          "text": [
            "[1 2 5 6]\n"
          ]
        }
      ]
    }
  ]
}